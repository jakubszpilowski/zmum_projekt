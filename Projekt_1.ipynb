{
 "cells": [
  {
   "cell_type": "markdown",
   "id": "7b99edde-081e-43b9-b8b8-7743fce11caa",
   "metadata": {},
   "source": [
    "## Zaawansowane Metody Uczenia Maszynowego - PROJEKT 1 \n",
    "\n",
    "Temat projektu: **Klasyfikator pokemonów** \n",
    "\n",
    "<img src=\"./assets/charizard_cool.png\" width=\"50\" height=\"50\" />"
   ]
  },
  {
   "cell_type": "markdown",
   "id": "e047ac8f-b5b4-4a63-9ff8-6a6918333b13",
   "metadata": {},
   "source": [
    "---\n",
    "### Zajęcia numer 1 - lista zadań:\n",
    "1. Wybrać zbiór danych, skonsultować, wpisać w arkusz na Delcie\n",
    "2. Opisać co w nim jest: jakie mamy cechy, czego dotyczy i co będzie przedmiotem projektu (regresja/klasyfikacja, zmianna zależna etc.)\n",
    "4. Zbiór danych ma cechować się:\n",
    "- Regresja lub klasyfikacja\n",
    "- Ilość danych min 1k rekordów\n",
    "- 10% danych brakujących (lub błędnych, mozna dodać ręcznie)\n",
    "- Min 5-7 lub więcej cech w zbiorze\n",
    "- W przypadku klasyfikacji rozkład ilościowy etykiet\n",
    "  \n",
    "4. Podsumowanie zbioru, opis cech, ilości danych, analiza danych błędnych/brakujących (czy są/nie ma etc.)\n",
    "5. Histogramy + opis\n",
    "6. Box ploty + opis\n",
    "7. Wizualizacja danych w oparciu o jakiś bardziej zaawansowany wykres (przykład z wykładu)\n",
    "8. Analiza danych bazując na pandas (np. w jakim kraju wystąpiła najwyższa inflacja, w jakim kraju najczęściej pojawił się kryzys itp)\n",
    "9. Analiza pairplotów (jeśli dużo danych w zestawie można wyrysować mniej lub osobno dla każdej kolumny albo np. policzyć współczynniki korelacji Pearsona/Spearmana)"
   ]
  },
  {
   "attachments": {},
   "cell_type": "markdown",
   "id": "6f65f449-e7f8-40da-af0b-36712a4e3f05",
   "metadata": {},
   "source": [
    "---\n",
    "#### Opis zbioru:\n",
    "Zbiór danych zawiera informacje o 1045 Pokemonach z Generacji od 1 do 8.\n",
    "Opisuje atrybuty Pokemonów takie jak: nazwę, typ, ilość zdrowia, siłę ataku, moc obrony, itd.\n",
    "\n",
    "Kolumny:\n",
    "- Pokedex_No. - numer Pokemona z pokedexu\n",
    "- Name - nazwa Pokemona\n",
    "- Type - typ (każdy z Pokemonów ma od 1 do 2 typów)\n",
    "- Other Type - drugi typ pokemona (każdy z Pokemonów ma od 1 do 2 typów) -> jeżeli None tzn. Pokemon ma tylko 1 typ\n",
    "- HP - ilość zdrowia\n",
    "- Attack - siła ataku\n",
    "- Defense - siła oborny\n",
    "- Special Attack - siła ataku specjalnego\n",
    "- Special Defense - siła obrony specjalne\n",
    "- Speed - szybkość Pokemona\n",
    "- Total - całkowita moc Pokemona (suma HP, Attack, Defense, Special Attack, Special Defense, Speed)\n",
    "- Generation - generacja do której należy\n",
    "- Legendary - zmienna zależna, określa czy Pokemon jest legendarny (0/1)\n",
    "\n",
    "Model klasyfikacji - model będzie określał czy dany Pokemon jest legendarny czy nie.\n",
    "\n",
    "Etykiety:\n",
    "- 0 - pokemon nie jest legendarny\n",
    "- 1 - pokemon jest legendarny"
   ]
  },
  {
   "cell_type": "code",
   "execution_count": null,
   "id": "eaea7dd2-5b82-4ff8-9f65-64752b0c9ec2",
   "metadata": {},
   "outputs": [],
   "source": [
    "import pandas as pd\n",
    "import matplotlib.pyplot as plt\n",
    "import numpy as np\n",
    "import seaborn as sns"
   ]
  },
  {
   "cell_type": "code",
   "execution_count": null,
   "id": "e70e6e10-82bd-4df6-a999-0a36b68e1392",
   "metadata": {},
   "outputs": [],
   "source": [
    "# wczytanie danych\n",
    "dataset_path = './datasets/dataset_pokemon_all.csv'\n",
    "df = pd.read_csv(dataset_path)"
   ]
  },
  {
   "cell_type": "code",
   "execution_count": null,
   "id": "95666173-57e6-4925-9e45-9e94852fb9b2",
   "metadata": {},
   "outputs": [],
   "source": [
    "df = df.replace(\"?\", None)"
   ]
  },
  {
   "cell_type": "code",
   "execution_count": null,
   "id": "8d138c8f-8b34-4f84-8c1e-fd4c1217e175",
   "metadata": {},
   "outputs": [],
   "source": [
    "df['Name'] = df['Name'].apply(lambda x : x.replace(\"'\", \"\"))"
   ]
  },
  {
   "cell_type": "code",
   "execution_count": null,
   "id": "746cc9d4-618f-425c-9f0d-ae9af0c7d210",
   "metadata": {},
   "outputs": [
    {
     "data": {
      "text/html": [
       "<div>\n",
       "<style scoped>\n",
       "    .dataframe tbody tr th:only-of-type {\n",
       "        vertical-align: middle;\n",
       "    }\n",
       "\n",
       "    .dataframe tbody tr th {\n",
       "        vertical-align: top;\n",
       "    }\n",
       "\n",
       "    .dataframe thead th {\n",
       "        text-align: right;\n",
       "    }\n",
       "</style>\n",
       "<table border=\"1\" class=\"dataframe\">\n",
       "  <thead>\n",
       "    <tr style=\"text-align: right;\">\n",
       "      <th></th>\n",
       "      <th>Pokedex_No</th>\n",
       "      <th>Name</th>\n",
       "      <th>Type</th>\n",
       "      <th>Other_Type</th>\n",
       "      <th>HP</th>\n",
       "      <th>Attack</th>\n",
       "      <th>Defense</th>\n",
       "      <th>Special_Attack</th>\n",
       "      <th>Special_Defense</th>\n",
       "      <th>Speed</th>\n",
       "      <th>Total</th>\n",
       "      <th>Generation</th>\n",
       "      <th>Legendary</th>\n",
       "    </tr>\n",
       "  </thead>\n",
       "  <tbody>\n",
       "    <tr>\n",
       "      <th>0</th>\n",
       "      <td>1</td>\n",
       "      <td>Bulbasaur</td>\n",
       "      <td>Grass</td>\n",
       "      <td>Poison</td>\n",
       "      <td>45</td>\n",
       "      <td>49</td>\n",
       "      <td>49</td>\n",
       "      <td>65</td>\n",
       "      <td>65</td>\n",
       "      <td>45</td>\n",
       "      <td>318</td>\n",
       "      <td>1</td>\n",
       "      <td>0</td>\n",
       "    </tr>\n",
       "    <tr>\n",
       "      <th>1</th>\n",
       "      <td>2</td>\n",
       "      <td>Ivysaur</td>\n",
       "      <td>Grass</td>\n",
       "      <td>Poison</td>\n",
       "      <td>60</td>\n",
       "      <td>62</td>\n",
       "      <td>63</td>\n",
       "      <td>80</td>\n",
       "      <td>80</td>\n",
       "      <td>60</td>\n",
       "      <td>405</td>\n",
       "      <td>1</td>\n",
       "      <td>0</td>\n",
       "    </tr>\n",
       "    <tr>\n",
       "      <th>2</th>\n",
       "      <td>3</td>\n",
       "      <td>Venusaur</td>\n",
       "      <td>Grass</td>\n",
       "      <td>Poison</td>\n",
       "      <td>80</td>\n",
       "      <td>82</td>\n",
       "      <td>83</td>\n",
       "      <td>100</td>\n",
       "      <td>100</td>\n",
       "      <td>80</td>\n",
       "      <td>525</td>\n",
       "      <td>1</td>\n",
       "      <td>0</td>\n",
       "    </tr>\n",
       "    <tr>\n",
       "      <th>3</th>\n",
       "      <td>3</td>\n",
       "      <td>Mega Venusaur</td>\n",
       "      <td>Grass</td>\n",
       "      <td>Poison</td>\n",
       "      <td>80</td>\n",
       "      <td>100</td>\n",
       "      <td>123</td>\n",
       "      <td>122</td>\n",
       "      <td>120</td>\n",
       "      <td>80</td>\n",
       "      <td>625</td>\n",
       "      <td>1</td>\n",
       "      <td>0</td>\n",
       "    </tr>\n",
       "    <tr>\n",
       "      <th>4</th>\n",
       "      <td>4</td>\n",
       "      <td>Charmander</td>\n",
       "      <td>Fire</td>\n",
       "      <td>None</td>\n",
       "      <td>39</td>\n",
       "      <td>52</td>\n",
       "      <td>43</td>\n",
       "      <td>60</td>\n",
       "      <td>50</td>\n",
       "      <td>65</td>\n",
       "      <td>309</td>\n",
       "      <td>1</td>\n",
       "      <td>0</td>\n",
       "    </tr>\n",
       "  </tbody>\n",
       "</table>\n",
       "</div>"
      ],
      "text/plain": [
       "   Pokedex_No           Name   Type Other_Type  HP  Attack  Defense  \\\n",
       "0           1      Bulbasaur  Grass     Poison  45      49       49   \n",
       "1           2        Ivysaur  Grass     Poison  60      62       63   \n",
       "2           3       Venusaur  Grass     Poison  80      82       83   \n",
       "3           3  Mega Venusaur  Grass     Poison  80     100      123   \n",
       "4           4     Charmander   Fire       None  39      52       43   \n",
       "\n",
       "   Special_Attack  Special_Defense  Speed  Total  Generation  Legendary  \n",
       "0              65               65     45    318           1          0  \n",
       "1              80               80     60    405           1          0  \n",
       "2             100              100     80    525           1          0  \n",
       "3             122              120     80    625           1          0  \n",
       "4              60               50     65    309           1          0  "
      ]
     },
     "execution_count": 6,
     "metadata": {},
     "output_type": "execute_result"
    }
   ],
   "source": [
    "df.head()"
   ]
  },
  {
   "cell_type": "code",
   "execution_count": null,
   "id": "8498c19d-32d0-48d0-96cc-213205cb0c70",
   "metadata": {},
   "outputs": [],
   "source": [
    "rows, cols = df.shape"
   ]
  },
  {
   "cell_type": "code",
   "execution_count": null,
   "id": "b1d63881-b388-4ea0-823d-5b58e470eda7",
   "metadata": {},
   "outputs": [],
   "source": [
    "values_count = rows * cols\n",
    "max_empty = round(0.1 * values_count) + 1\n",
    "max_empty = max_empty"
   ]
  },
  {
   "cell_type": "code",
   "execution_count": null,
   "id": "4cb156c2-6950-4c39-8f20-8ece959a8482",
   "metadata": {},
   "outputs": [],
   "source": [
    "# uzupełnanie pustymi wartościami\n",
    "row_idxs = np.random.randint(0, rows, max_empty)\n",
    "# skip nazwy i indeksu\n",
    "col_idxs = np.random.randint(2, cols, max_empty)\n",
    "\n",
    "for r, c in zip(row_idxs, col_idxs):\n",
    "    df.iat[r, c] = None"
   ]
  },
  {
   "cell_type": "markdown",
   "id": "0a44d2f1-3539-4126-81ad-c6d90e21fa64",
   "metadata": {},
   "source": [
    "#### Podsumowanie zbioru:\n",
    "- Opis cech - jak wyżej\n",
    "- Ilość danych - 1045 wierszy\n",
    "- Dane błędne/brakujące - dodane ręcznie 10%"
   ]
  },
  {
   "cell_type": "code",
   "execution_count": 11,
   "id": "820ab52c-2742-461a-898d-10c596cb8e00",
   "metadata": {},
   "outputs": [
    {
     "data": {
      "text/html": [
       "<div>\n",
       "<style scoped>\n",
       "    .dataframe tbody tr th:only-of-type {\n",
       "        vertical-align: middle;\n",
       "    }\n",
       "\n",
       "    .dataframe tbody tr th {\n",
       "        vertical-align: top;\n",
       "    }\n",
       "\n",
       "    .dataframe thead th {\n",
       "        text-align: right;\n",
       "    }\n",
       "</style>\n",
       "<table border=\"1\" class=\"dataframe\">\n",
       "  <thead>\n",
       "    <tr style=\"text-align: right;\">\n",
       "      <th></th>\n",
       "      <th>Pokedex_No</th>\n",
       "      <th>HP</th>\n",
       "      <th>Attack</th>\n",
       "      <th>Defense</th>\n",
       "      <th>Special_Attack</th>\n",
       "      <th>Special_Defense</th>\n",
       "      <th>Speed</th>\n",
       "      <th>Total</th>\n",
       "      <th>Generation</th>\n",
       "      <th>Legendary</th>\n",
       "    </tr>\n",
       "  </thead>\n",
       "  <tbody>\n",
       "    <tr>\n",
       "      <th>count</th>\n",
       "      <td>1045.000000</td>\n",
       "      <td>944.000000</td>\n",
       "      <td>929.000000</td>\n",
       "      <td>909.000000</td>\n",
       "      <td>937.000000</td>\n",
       "      <td>928.000000</td>\n",
       "      <td>931.000000</td>\n",
       "      <td>939.00000</td>\n",
       "      <td>914.000000</td>\n",
       "      <td>922.000000</td>\n",
       "    </tr>\n",
       "    <tr>\n",
       "      <th>mean</th>\n",
       "      <td>440.769378</td>\n",
       "      <td>70.681144</td>\n",
       "      <td>80.407966</td>\n",
       "      <td>74.471947</td>\n",
       "      <td>73.348986</td>\n",
       "      <td>71.992457</td>\n",
       "      <td>69.083781</td>\n",
       "      <td>439.13738</td>\n",
       "      <td>4.022976</td>\n",
       "      <td>0.116052</td>\n",
       "    </tr>\n",
       "    <tr>\n",
       "      <th>std</th>\n",
       "      <td>262.517231</td>\n",
       "      <td>27.099577</td>\n",
       "      <td>32.431067</td>\n",
       "      <td>31.471135</td>\n",
       "      <td>33.145865</td>\n",
       "      <td>27.916251</td>\n",
       "      <td>30.240709</td>\n",
       "      <td>121.88169</td>\n",
       "      <td>2.263215</td>\n",
       "      <td>0.320461</td>\n",
       "    </tr>\n",
       "    <tr>\n",
       "      <th>min</th>\n",
       "      <td>1.000000</td>\n",
       "      <td>1.000000</td>\n",
       "      <td>5.000000</td>\n",
       "      <td>5.000000</td>\n",
       "      <td>10.000000</td>\n",
       "      <td>20.000000</td>\n",
       "      <td>5.000000</td>\n",
       "      <td>175.00000</td>\n",
       "      <td>1.000000</td>\n",
       "      <td>0.000000</td>\n",
       "    </tr>\n",
       "    <tr>\n",
       "      <th>25%</th>\n",
       "      <td>212.000000</td>\n",
       "      <td>50.000000</td>\n",
       "      <td>56.000000</td>\n",
       "      <td>50.000000</td>\n",
       "      <td>50.000000</td>\n",
       "      <td>50.000000</td>\n",
       "      <td>45.000000</td>\n",
       "      <td>330.00000</td>\n",
       "      <td>2.000000</td>\n",
       "      <td>0.000000</td>\n",
       "    </tr>\n",
       "    <tr>\n",
       "      <th>50%</th>\n",
       "      <td>436.000000</td>\n",
       "      <td>68.500000</td>\n",
       "      <td>77.000000</td>\n",
       "      <td>70.000000</td>\n",
       "      <td>65.000000</td>\n",
       "      <td>70.000000</td>\n",
       "      <td>65.000000</td>\n",
       "      <td>458.00000</td>\n",
       "      <td>4.000000</td>\n",
       "      <td>0.000000</td>\n",
       "    </tr>\n",
       "    <tr>\n",
       "      <th>75%</th>\n",
       "      <td>670.000000</td>\n",
       "      <td>85.000000</td>\n",
       "      <td>100.000000</td>\n",
       "      <td>90.000000</td>\n",
       "      <td>95.000000</td>\n",
       "      <td>90.000000</td>\n",
       "      <td>90.000000</td>\n",
       "      <td>512.00000</td>\n",
       "      <td>6.000000</td>\n",
       "      <td>0.000000</td>\n",
       "    </tr>\n",
       "    <tr>\n",
       "      <th>max</th>\n",
       "      <td>898.000000</td>\n",
       "      <td>255.000000</td>\n",
       "      <td>190.000000</td>\n",
       "      <td>250.000000</td>\n",
       "      <td>194.000000</td>\n",
       "      <td>250.000000</td>\n",
       "      <td>200.000000</td>\n",
       "      <td>1125.00000</td>\n",
       "      <td>8.000000</td>\n",
       "      <td>1.000000</td>\n",
       "    </tr>\n",
       "  </tbody>\n",
       "</table>\n",
       "</div>"
      ],
      "text/plain": [
       "        Pokedex_No          HP      Attack     Defense  Special_Attack  \\\n",
       "count  1045.000000  944.000000  929.000000  909.000000      937.000000   \n",
       "mean    440.769378   70.681144   80.407966   74.471947       73.348986   \n",
       "std     262.517231   27.099577   32.431067   31.471135       33.145865   \n",
       "min       1.000000    1.000000    5.000000    5.000000       10.000000   \n",
       "25%     212.000000   50.000000   56.000000   50.000000       50.000000   \n",
       "50%     436.000000   68.500000   77.000000   70.000000       65.000000   \n",
       "75%     670.000000   85.000000  100.000000   90.000000       95.000000   \n",
       "max     898.000000  255.000000  190.000000  250.000000      194.000000   \n",
       "\n",
       "       Special_Defense       Speed       Total  Generation   Legendary  \n",
       "count       928.000000  931.000000   939.00000  914.000000  922.000000  \n",
       "mean         71.992457   69.083781   439.13738    4.022976    0.116052  \n",
       "std          27.916251   30.240709   121.88169    2.263215    0.320461  \n",
       "min          20.000000    5.000000   175.00000    1.000000    0.000000  \n",
       "25%          50.000000   45.000000   330.00000    2.000000    0.000000  \n",
       "50%          70.000000   65.000000   458.00000    4.000000    0.000000  \n",
       "75%          90.000000   90.000000   512.00000    6.000000    0.000000  \n",
       "max         250.000000  200.000000  1125.00000    8.000000    1.000000  "
      ]
     },
     "execution_count": 11,
     "metadata": {},
     "output_type": "execute_result"
    }
   ],
   "source": [
    "df.describe()"
   ]
  },
  {
   "cell_type": "code",
   "execution_count": 13,
   "id": "6e14f564-571f-466b-96fc-e627f62bef97",
   "metadata": {},
   "outputs": [
    {
     "data": {
      "text/plain": [
       "Legendary\n",
       "0.0    830\n",
       "1.0    108\n",
       "NaN    107\n",
       "Name: count, dtype: int64"
      ]
     },
     "execution_count": 13,
     "metadata": {},
     "output_type": "execute_result"
    }
   ],
   "source": [
    "df['Legendary'].value_counts(dropna=False)"
   ]
  },
  {
   "cell_type": "markdown",
   "id": "49b48680-20b2-4b53-97e8-c38ecf54b08e",
   "metadata": {},
   "source": [
    "#### Histogramy"
   ]
  },
  {
   "cell_type": "code",
   "execution_count": 65,
   "id": "e8181873-f4a6-4a2c-ace8-cac6e39e164d",
   "metadata": {},
   "outputs": [],
   "source": [
    "excluded = ['Pokedex_No', 'Name', 'Type', 'Other_Type', 'Target']\n",
    "def create_histogram(df):\n",
    "    for c in df.columns:\n",
    "        if c in excluded:\n",
    "            continue\n",
    "        df.hist(column=c, figsize=(10, 10))"
   ]
  },
  {
   "cell_type": "code",
   "execution_count": 5,
   "id": "2abcd87d-1ca6-4248-b1d2-00c02933fb63",
   "metadata": {},
   "outputs": [],
   "source": [
    "# create_histogram(df)"
   ]
  },
  {
   "cell_type": "markdown",
   "id": "b643f8c1-31b6-4f53-a4f2-ce1167ef1ca1",
   "metadata": {},
   "source": [
    "#### Boxploty"
   ]
  },
  {
   "cell_type": "code",
   "execution_count": 68,
   "id": "2b49dfc6-728f-40f2-acd6-467e3aeba1ff",
   "metadata": {},
   "outputs": [],
   "source": [
    "def create_boxplot(df, c):\n",
    "    plt.figure(figsize=(10, 10))\n",
    "    df.boxplot([c], figsize=(10, 10))"
   ]
  },
  {
   "cell_type": "code",
   "execution_count": 6,
   "id": "856156b3-eefb-4692-b805-51218fad8c7c",
   "metadata": {},
   "outputs": [],
   "source": [
    "# for c in df.columns:\n",
    "#     if c in excluded:\n",
    "#         continue\n",
    "#     create_boxplot(df, c)"
   ]
  },
  {
   "cell_type": "markdown",
   "id": "f50169b7-b93d-427d-9bda-e2c2a2b8698d",
   "metadata": {},
   "source": [
    "#### Pairploty"
   ]
  },
  {
   "cell_type": "code",
   "execution_count": 73,
   "id": "f8fd179c-59ac-4150-bf2c-a334f2a5f756",
   "metadata": {},
   "outputs": [],
   "source": [
    "def create_pairplot(df):\n",
    "    sns.pairplot(df)"
   ]
  },
  {
   "cell_type": "code",
   "execution_count": 7,
   "id": "aa07b37c-568e-4688-a374-0fd3b8b5e04f",
   "metadata": {},
   "outputs": [],
   "source": [
    "# create_pairplot(df)"
   ]
  },
  {
   "cell_type": "markdown",
   "id": "fc9716ba-49ef-4265-99f3-becb17285409",
   "metadata": {},
   "source": [
    "#### Co jeszcze jest do zrobienia z zajęć nr 1:\n",
    "- [x] zbiór wybrany, konsultowany, wpisany w arkuszWybrać zbiór danych, skonsultować, wpisać w arkusz na Delcie\n",
    "- [x] opis zbioru (czego dotyczy, jakie cechy, jaki model, zmienna zależna, etykiety)\n",
    "- [x] zbiór spełnia wymagania projektu\n",
    "- [x] podsumowanie zbioru - opis cech, ilości danych, analiza danych błędnych/brakujących\n",
    "- [ ] histogramy + opis **(dodać opic)**\n",
    "- [ ] box ploty + opis **(dodać opis)**\n",
    "- [ ] wizualizacja danych w oparciu o jakiś bardziej zaawansowany wykres (np. kilka zmiennych na jednym wykresie)\n",
    "- [ ] analiza danych bazując na pandas\n",
    "- [ ] analiza pairplotów (pariploty małoczytelne - można zrobić osobne dla każdej zmiennej)"
   ]
  },
  {
   "cell_type": "markdown",
   "id": "3b1f4a2b-3196-4e2f-8c39-7b1b7c403be2",
   "metadata": {},
   "source": [
    "#### Poza tym:\n",
    "- [ ] zakodować zmienną `Type` i `Other_Type` (wartości string) za pomocą kodowania: `binary encoding`, `frequency encoding` lub `mean encoding`\n",
    "- [ ] zapisać zestaw po przetworzeniu (po kodowaniu zmiennych i dodaniu pustych wartości) do nowego pliku `dataset_clear.csv` (żeby tego za każdym razem nie przetwarzać tylko wczytać z czystego)"
   ]
  },
  {
   "cell_type": "markdown",
   "id": "b23a32e7-0d95-43d3-a14b-d9e3a02b88fb",
   "metadata": {},
   "source": [
    "---\n",
    "#### Zajęcia numer 2:\n",
    "1. Dokładny opis przy wszystkich wykresach,\n",
    "2. Analiza danych brakujących/błędnych (dwa proste sposoby + jeden \"trudniejszy\") = 3 różne zbiory danych jako output\n",
    "3. Analiza danych odstających\n",
    "4. Skalowanie danych (min/max + standaryzacja) dla każdego zbioru = 3 x 2 = 6 różnych zbiorow danych\n",
    "5. Zastanowić się nad cechami, czy każda z nich jest ok, może jakoś je zestawić, pomyśleć o timestamp oraz danych kategorycznych\n",
    "6. W razie potrzeby pozbyć się danych odstających (ostrożnie - patrz wykład)\n",
    "7. Wgranie na delcie pliku z raportem"
   ]
  },
  {
   "cell_type": "code",
   "execution_count": null,
   "id": "2888fc7a-7a67-4c87-a469-f42ecaab13dc",
   "metadata": {},
   "outputs": [],
   "source": []
  }
 ],
 "metadata": {
  "kernelspec": {
   "display_name": "Python 3 (ipykernel)",
   "language": "python",
   "name": "python3"
  },
  "language_info": {
   "codemirror_mode": {
    "name": "ipython",
    "version": 3
   },
   "file_extension": ".py",
   "mimetype": "text/x-python",
   "name": "python",
   "nbconvert_exporter": "python",
   "pygments_lexer": "ipython3",
   "version": "3.12.7"
  }
 },
 "nbformat": 4,
 "nbformat_minor": 5
}
